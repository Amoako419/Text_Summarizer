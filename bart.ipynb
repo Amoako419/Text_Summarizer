{
 "cells": [
  {
   "cell_type": "code",
   "execution_count": 1,
   "metadata": {},
   "outputs": [],
   "source": [
    "import transformers\n",
    "import torch"
   ]
  },
  {
   "cell_type": "code",
   "execution_count": 2,
   "metadata": {},
   "outputs": [
    {
     "data": {
      "application/vnd.jupyter.widget-view+json": {
       "model_id": "f55598e6c2a84644a5a77a59787750ec",
       "version_major": 2,
       "version_minor": 0
      },
      "text/plain": [
       "config.json:   0%|          | 0.00/1.58k [00:00<?, ?B/s]"
      ]
     },
     "metadata": {},
     "output_type": "display_data"
    },
    {
     "data": {
      "application/vnd.jupyter.widget-view+json": {
       "model_id": "fa1fb5acff9b451283cdc396d363e52d",
       "version_major": 2,
       "version_minor": 0
      },
      "text/plain": [
       "model.safetensors:   0%|          | 0.00/1.63G [00:00<?, ?B/s]"
      ]
     },
     "metadata": {},
     "output_type": "display_data"
    },
    {
     "data": {
      "application/vnd.jupyter.widget-view+json": {
       "model_id": "f0eaa4e0350c42cdacbcb1b580874e6a",
       "version_major": 2,
       "version_minor": 0
      },
      "text/plain": [
       "generation_config.json:   0%|          | 0.00/363 [00:00<?, ?B/s]"
      ]
     },
     "metadata": {},
     "output_type": "display_data"
    },
    {
     "data": {
      "application/vnd.jupyter.widget-view+json": {
       "model_id": "af5c0ea59b03458cbdfe8c31b71b7c2f",
       "version_major": 2,
       "version_minor": 0
      },
      "text/plain": [
       "vocab.json:   0%|          | 0.00/899k [00:00<?, ?B/s]"
      ]
     },
     "metadata": {},
     "output_type": "display_data"
    },
    {
     "data": {
      "application/vnd.jupyter.widget-view+json": {
       "model_id": "9357dcc519b941db910d9c25d9daffac",
       "version_major": 2,
       "version_minor": 0
      },
      "text/plain": [
       "merges.txt:   0%|          | 0.00/456k [00:00<?, ?B/s]"
      ]
     },
     "metadata": {},
     "output_type": "display_data"
    },
    {
     "data": {
      "application/vnd.jupyter.widget-view+json": {
       "model_id": "2ad3b9650a0f446caa580cba03813c22",
       "version_major": 2,
       "version_minor": 0
      },
      "text/plain": [
       "tokenizer.json:   0%|          | 0.00/1.36M [00:00<?, ?B/s]"
      ]
     },
     "metadata": {},
     "output_type": "display_data"
    },
    {
     "name": "stdout",
     "output_type": "stream",
     "text": [
      "Summary: I officially graduated from the **AWS re/Start Program** today. It’s been an incredibly enriching and transformative experience since I enrolled in November 2024. I’m grateful for the supportive instructors, mentors, and peers who made this journey so rewarding. If you’re considering a career in tech or cloud, I highly recommend exploring programs like AWS re-Start.\n"
     ]
    }
   ],
   "source": [
    "from transformers import BartForConditionalGeneration, BartTokenizer\n",
    "\n",
    "# Load the model and tokenizer\n",
    "model_name = \"facebook/bart-large-cnn\"\n",
    "model = BartForConditionalGeneration.from_pretrained(model_name)\n",
    "tokenizer = BartTokenizer.from_pretrained(model_name)\n",
    "\n",
    "# Input text to summarize\n",
    "input_text = \"\"\"\n",
    "🌟 Exciting News! 🌟  \n",
    "\n",
    "Today marks a significant milestone in my journey—I officially graduated from the **AWS re/Start Program**! 🎓✨  \n",
    "\n",
    "It’s been an incredibly enriching and transformative experience since I enrolled in November 2024. Over the past few months, I’ve immersed myself in learning the fundamentals of cloud computing and gained hands-on experience with **AWS services**. The program covered a wide range of modules, including:  \n",
    "\n",
    "☁️ **Linux**  \n",
    "☁️ **Networking**  \n",
    "☁️ **Security on AWS**  \n",
    "☁️ **Databases on AWS**  \n",
    "☁️ **System Operations**  \n",
    "\n",
    "Each module challenged me to grow, think critically, and apply my knowledge to real-world scenarios. I’m grateful for the supportive instructors, mentors, and peers who made this journey so rewarding.  \n",
    "\n",
    "This is just the beginning of my cloud journey, and I’m excited to take the next steps toward building a career in cloud computing. If you’re considering a career in tech or cloud, I highly recommend exploring programs like AWS re/Start—it’s a game-changer!  \n",
    "\n",
    "A huge thank you to the **AWS re/Start team** and everyone who supported me along the way. Here’s to new beginnings and endless possibilities in the cloud! 🚀  \n",
    "\n",
    "#AWSreStart #CloudComputing #AWSCertified #CareerGrowth #TechJourney #Gratitude #NewBeginnings\"\"\"\n",
    "\n",
    "# Tokenize the input text\n",
    "inputs = tokenizer([input_text], max_length=1024, return_tensors='pt', truncation=True)\n",
    "\n",
    "# Generate the summary\n",
    "summary_ids = model.generate(inputs['input_ids'], num_beams=4, max_length=100, early_stopping=True)\n",
    "summary = tokenizer.decode(summary_ids[0], skip_special_tokens=True)\n",
    "\n",
    "print(\"Summary:\", summary)"
   ]
  }
 ],
 "metadata": {
  "kernelspec": {
   "display_name": "base",
   "language": "python",
   "name": "python3"
  },
  "language_info": {
   "codemirror_mode": {
    "name": "ipython",
    "version": 3
   },
   "file_extension": ".py",
   "mimetype": "text/x-python",
   "name": "python",
   "nbconvert_exporter": "python",
   "pygments_lexer": "ipython3",
   "version": "3.11.7"
  }
 },
 "nbformat": 4,
 "nbformat_minor": 2
}
